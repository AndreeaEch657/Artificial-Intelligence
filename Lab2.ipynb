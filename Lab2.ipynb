{
 "cells": [
  {
   "cell_type": "code",
   "execution_count": 45,
   "id": "32da1f17-7e64-4d46-bad2-91d7bffee7d7",
   "metadata": {},
   "outputs": [
    {
     "name": "stdout",
     "output_type": "stream",
     "text": [
      "3.0\n",
      "4.242640687119285\n",
      "0.7071067811865476\n",
      "9.0\n",
      "Ex2:\n",
      "-1\n",
      "-1\n",
      "-1\n",
      "1\n",
      "-1\n",
      "1\n",
      "1\n",
      "1\n",
      "Ex3:\n",
      "o1 = 1.000000\n",
      "o2 = 1.000000\n",
      "o3 = -1.000000\n",
      "o1 = 1.000000\n",
      "o2 = 1.000000\n",
      "o3 = -1.000000\n",
      "o1 = 1.000000\n",
      "o2 = 1.000000\n",
      "o3 = -1.000000\n",
      "o1 = 1.000000\n",
      "o2 = 1.000000\n",
      "o3 = -1.000000\n"
     ]
    }
   ],
   "source": [
    "import numpy as np\n",
    "\n",
    "x = np.array([2,1,2])\n",
    "print(np.linalg.norm(x))\n",
    "\n",
    "y = np.array([1,-1,4])\n",
    "print(np.linalg.norm(y))\n",
    "\n",
    "from numpy import dot\n",
    "from numpy.linalg import norm\n",
    "\n",
    "cos_sim = dot(x, y)/(norm(x)*norm(y))\n",
    "print(cos_sim)\n",
    "\n",
    "vect_mult = np.linalg.norm(x)*np.linalg.norm(y)*cos_sim\n",
    "print(vect_mult)\n",
    "\n",
    "print(\"Ex2:\")\n",
    "points = np.array([[-1,-1,-1],[-1,-1,1],[-1,1,-1],[-1,1,1],[1,-1,-1],[1,-1,1],[1,1,-1],[1,1,1]])\n",
    "for x in points:\n",
    "        print(np.sign(np.sum(x)))\n",
    "\n",
    "        \n",
    "def signum (x,undef):\n",
    "    if x < 0:\n",
    "        return -1\n",
    "    elif x > 0:\n",
    "        return 1\n",
    "    else:\n",
    "        return undef\n",
    "\n",
    "print(\"Ex3:\")\n",
    "o1 = 1\n",
    "o2 = -1\n",
    "o3 = -1\n",
    "n = np.array([1,1,1,1])\n",
    "\n",
    "for i in n:\n",
    "\n",
    "    o1_p = o2 - o3\n",
    "    o1 = signum (o1_p, o1)\n",
    "    print(\"o1 = %f\" %o1)\n",
    "    \n",
    "    o2_p = o1 - o3\n",
    "    o2 = signum (o2_p, o2)\n",
    "    print(\"o2 = %f\" %o2)\n",
    "    \n",
    "    o3_p = -o1 - o2\n",
    "    o3 = signum (o3_p, o3)\n",
    "    print(\"o3 = %f\" %o3)\n"
   ]
  },
  {
   "cell_type": "code",
   "execution_count": null,
   "id": "3485bba4-f5c2-409d-8ba3-47d83626a527",
   "metadata": {},
   "outputs": [],
   "source": []
  }
 ],
 "metadata": {
  "kernelspec": {
   "display_name": "Python 3 (ipykernel)",
   "language": "python",
   "name": "python3"
  },
  "language_info": {
   "codemirror_mode": {
    "name": "ipython",
    "version": 3
   },
   "file_extension": ".py",
   "mimetype": "text/x-python",
   "name": "python",
   "nbconvert_exporter": "python",
   "pygments_lexer": "ipython3",
   "version": "3.9.7"
  }
 },
 "nbformat": 4,
 "nbformat_minor": 5
}
