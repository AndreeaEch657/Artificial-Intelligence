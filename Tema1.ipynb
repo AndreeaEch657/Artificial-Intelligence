{
 "cells": [
  {
   "cell_type": "code",
   "execution_count": 8,
   "id": "7f65d813-4bec-4ce5-b572-ccd52682d9c3",
   "metadata": {},
   "outputs": [
    {
     "name": "stdout",
     "output_type": "stream",
     "text": [
      "Iteratia 1 :\n",
      "Net1: 1\n",
      "Weight2: [-0.4  0.8  0.2] \n",
      "\n",
      "Net2: -1.0\n",
      "Weight3: [-0.4  0.6  0. ] \n",
      "\n",
      "Iteratia 2 :\n",
      "Net1: -0.19999999999999996\n",
      "Weight2: [-0.4  0.6  0. ] \n",
      "\n",
      "Net2: -0.6000000000000001\n",
      "Weight3: [-0.4  0.4 -0.2] \n",
      "\n",
      "Iteratia 3 :\n",
      "Net1: -0.2\n",
      "Weight2: [-0.4  0.4 -0.2] \n",
      "\n",
      "Net2: -0.20000000000000007\n",
      "Weight3: [-0.4  0.2 -0.4] \n",
      "\n",
      "Iteratia 4 :\n",
      "Net1: -0.19999999999999996\n",
      "Weight2: [-0.4  0.2 -0.4] \n",
      "\n",
      "Net2: 0.19999999999999996\n",
      "Weight3: [-0.4  0.2 -0.4] \n",
      "\n"
     ]
    }
   ],
   "source": [
    "import numpy as np\n",
    "\n",
    "w1 = np.array([0,1,0])\n",
    "x1 = np.array([2,1,-1])\n",
    "x2 = np.array([0,-1,-1])\n",
    "d1 = -1\n",
    "d2 = 1\n",
    "c = 0.1\n",
    "e = True\n",
    "it = 1\n",
    "\n",
    "while e:\n",
    "    \n",
    "        print(\"Iteratia\",it,\":\")\n",
    "        it+=1\n",
    "        e = False\n",
    "        net1 = np.dot(w1,x1)\n",
    "        print(\"Net1:\", net1)\n",
    "        o = np.sign(net1)\n",
    "        r = d1 - o\n",
    "        if d1 == o:\n",
    "            w2 = w1\n",
    "        else:\n",
    "            w2 = w1 + c*r*x1\n",
    "            e = True\n",
    "        print(\"Weight2:\", w2,\"\\n\")\n",
    "        \n",
    "        net2 = np.dot(w2,x2)\n",
    "        print(\"Net2:\", net2)\n",
    "        o = np.sign(net2)\n",
    "        r = d2 - o\n",
    "        if d2 == o:\n",
    "            w3 = w2\n",
    "        else:\n",
    "            w3 = w2 + c*r*x2\n",
    "            e = True\n",
    "        print(\"Weight3:\", w3,\"\\n\")\n",
    "        \n",
    "        w1 = w3"
   ]
  },
  {
   "cell_type": "code",
   "execution_count": null,
   "id": "0c20a4e7-717d-4eb0-ad2c-7baec0d40708",
   "metadata": {},
   "outputs": [],
   "source": []
  }
 ],
 "metadata": {
  "kernelspec": {
   "display_name": "Python 3 (ipykernel)",
   "language": "python",
   "name": "python3"
  },
  "language_info": {
   "codemirror_mode": {
    "name": "ipython",
    "version": 3
   },
   "file_extension": ".py",
   "mimetype": "text/x-python",
   "name": "python",
   "nbconvert_exporter": "python",
   "pygments_lexer": "ipython3",
   "version": "3.9.7"
  }
 },
 "nbformat": 4,
 "nbformat_minor": 5
}
