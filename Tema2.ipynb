{
 "cells": [
  {
   "cell_type": "code",
   "execution_count": 48,
   "id": "99766a74-8d3b-4185-b8e5-04350417b1de",
   "metadata": {},
   "outputs": [
    {
     "name": "stdout",
     "output_type": "stream",
     "text": [
      "[[48, 40], [55, 42], [190, 40]]\n",
      "Epoca 1\n",
      "[[46.0, 54.333333333333336], [47.666666666666664, 71.33333333333333], [195.0, 41.333333333333336]]\n",
      "Cluster 1: [[50, 43], [40, 80], [48, 40]]\n",
      "Cluster 2: [[45, 85], [55, 42], [43, 87]]\n",
      "Cluster 3: [[200, 43], [195, 41], [190, 40]] \n",
      "\n",
      "Epoca 2\n",
      "[[51.0, 41.666666666666664], [42.666666666666664, 84.0], [195.0, 41.333333333333336]]\n",
      "Cluster 1: [[50, 43], [55, 42], [48, 40]]\n",
      "Cluster 2: [[45, 85], [40, 80], [43, 87]]\n",
      "Cluster 3: [[200, 43], [195, 41], [190, 40]] \n",
      "\n",
      "Epoca 3\n",
      "[[51.0, 41.666666666666664], [42.666666666666664, 84.0], [195.0, 41.333333333333336]]\n",
      "Cluster 1: [[50, 43], [55, 42], [48, 40]]\n",
      "Cluster 2: [[45, 85], [40, 80], [43, 87]]\n",
      "Cluster 3: [[200, 43], [195, 41], [190, 40]] \n",
      "\n"
     ]
    }
   ],
   "source": [
    "import numpy as np\n",
    "import math\n",
    "import random\n",
    "\n",
    "x1 = [45,85]\n",
    "x2 = [50,43]\n",
    "x3 = [40,80]\n",
    "x4 = [55,42]\n",
    "x5 = [200,43]\n",
    "x6 = [48,40]\n",
    "x7 = [195,41]\n",
    "x8 = [43,87]\n",
    "x9 = [190,40]\n",
    "\n",
    "lista_pcte = [x1,x2,x3,x4,x5,x6,x7,x8,x9]\n",
    "lista_centr = random.sample(lista_pcte,3)\n",
    "print(lista_centr)\n",
    "i = 1\n",
    "\n",
    "def dist(x1,x2): \n",
    "    return math.sqrt((x1[0] - x2[0]) ** 2 + (x1[1] - x2[1]) ** 2)\n",
    "\n",
    "def centrul_greutate(liste):\n",
    "    x = 0\n",
    "    y = 0\n",
    "    for p in liste:\n",
    "        x+=p[0]\n",
    "        y+=p[1]\n",
    "    centru = [x/len(liste),y/len(liste)]\n",
    "    return centru\n",
    "\n",
    "lista_ant = [] \n",
    "\n",
    "while lista_centr != lista_ant:  \n",
    "    cluster1 = []\n",
    "    cluster2 = []\n",
    "    cluster3 = []\n",
    "    print(\"Epoca\",i)\n",
    "    i+=1\n",
    "    lista_ant = lista_centr\n",
    "    for j in lista_pcte:\n",
    "        distante = [dist(j,lista_centr[0]),dist(j,lista_centr[1]),dist(j,lista_centr[2])]\n",
    "        minim = np.argmin(distante)\n",
    "        if minim == 0:\n",
    "            cluster1.append(j)\n",
    "        if minim == 1:\n",
    "            cluster2.append(j)\n",
    "        if minim == 2:\n",
    "            cluster3.append(j)\n",
    "    lista_centr = [centrul_greutate(cluster1),centrul_greutate(cluster2),centrul_greutate(cluster3)]\n",
    "    \n",
    "    print(lista_centr)\n",
    "    print(\"Cluster 1:\",cluster1)\n",
    "    print(\"Cluster 2:\",cluster2)\n",
    "    print(\"Cluster 3:\",cluster3,\"\\n\")\n"
   ]
  },
  {
   "cell_type": "code",
   "execution_count": null,
   "id": "0be0c8cf-12b0-4ae5-ba5e-07ad359422db",
   "metadata": {},
   "outputs": [],
   "source": []
  }
 ],
 "metadata": {
  "kernelspec": {
   "display_name": "Python 3 (ipykernel)",
   "language": "python",
   "name": "python3"
  },
  "language_info": {
   "codemirror_mode": {
    "name": "ipython",
    "version": 3
   },
   "file_extension": ".py",
   "mimetype": "text/x-python",
   "name": "python",
   "nbconvert_exporter": "python",
   "pygments_lexer": "ipython3",
   "version": "3.9.7"
  }
 },
 "nbformat": 4,
 "nbformat_minor": 5
}
