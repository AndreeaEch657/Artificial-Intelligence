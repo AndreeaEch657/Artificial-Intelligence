{
 "cells": [
  {
   "cell_type": "code",
   "execution_count": 1,
   "id": "548af2bb-35cd-45b9-852e-758a9b717e19",
   "metadata": {},
   "outputs": [
    {
     "name": "stdout",
     "output_type": "stream",
     "text": [
      "w1=9.5369175943194\n",
      "w2=24.800213167358326\n"
     ]
    }
   ],
   "source": [
    "import csv\n",
    "def readCSV():\n",
    "    myList = open(r\"C:\\Users\\HP\\Desktop\\Salary_Data.csv\")\n",
    "    csvreader = csv.reader(myList)\n",
    "    header = next(csvreader)\n",
    "    linii = []\n",
    "    for linie in csvreader:\n",
    "        linii.append(linie)\n",
    "    myList.close()\n",
    "    return linii\n",
    "\n",
    "date = readCSV()\n",
    "\n",
    "def sigmaEX(date,w1,w2):\n",
    "    s = 0\n",
    "    for linie in date:\n",
    "        s += (float(linie[1])- (w1*float(linie[0])+w2))*float(linie[0])\n",
    "    return s\n",
    "\n",
    "def sigmaEY(date,w1,w2):\n",
    "    s = 0\n",
    "    for linie in date:\n",
    "        s += (float(linie[1])- (w1*float(linie[0])+w2))\n",
    "    return s\n",
    "\n",
    "\n",
    "c = 0.01\n",
    "\n",
    "Edx = lambda w1,w2:1/15*sigmaEX(date,w1,w2)\n",
    "Edy = lambda w1,w2:1/15*sigmaEY(date,w1,w2)\n",
    "dif_w1 = 1\n",
    "dif_w2 = 1\n",
    "w1 = 2\n",
    "w2 = 5\n",
    "p = 0.0000001\n",
    "\n",
    "while dif_w1 > p and dif_w2 > p:\n",
    "    w1_prev = w1\n",
    "    w2_prev = w2\n",
    "    w1 = w1 + c*Edx(w1_prev,w2_prev)\n",
    "    w2 = w2 + c*Edy(w1_prev,w2_prev)\n",
    "    dif_w1 = abs(w1_prev-w1)\n",
    "    dif_w2 = abs(w2_prev-w2)\n",
    "\n",
    "print(f\"w1={w1}\\nw2={w2}\")"
   ]
  },
  {
   "cell_type": "code",
   "execution_count": null,
   "id": "d5adb371-9af3-4990-84b1-f90d7692c39d",
   "metadata": {},
   "outputs": [],
   "source": []
  }
 ],
 "metadata": {
  "kernelspec": {
   "display_name": "Python 3 (ipykernel)",
   "language": "python",
   "name": "python3"
  },
  "language_info": {
   "codemirror_mode": {
    "name": "ipython",
    "version": 3
   },
   "file_extension": ".py",
   "mimetype": "text/x-python",
   "name": "python",
   "nbconvert_exporter": "python",
   "pygments_lexer": "ipython3",
   "version": "3.9.7"
  }
 },
 "nbformat": 4,
 "nbformat_minor": 5
}
